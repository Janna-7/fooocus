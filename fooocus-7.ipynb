{
 "cells": [
  {
   "cell_type": "code",
   "execution_count": 1,
   "id": "0ca65062",
   "metadata": {
    "_cell_guid": "b1076dfc-b9ad-4769-8c92-a6c4dae69d19",
    "_uuid": "8f2839f25d086af736a60e9eeb907d3b93b6e0e5",
    "execution": {
     "iopub.execute_input": "2024-09-22T08:21:42.167188Z",
     "iopub.status.busy": "2024-09-22T08:21:42.166797Z",
     "iopub.status.idle": "2024-09-22T08:21:42.919514Z",
     "shell.execute_reply": "2024-09-22T08:21:42.918728Z"
    },
    "papermill": {
     "duration": 0.758735,
     "end_time": "2024-09-22T08:21:42.921775",
     "exception": false,
     "start_time": "2024-09-22T08:21:42.163040",
     "status": "completed"
    },
    "tags": []
   },
   "outputs": [],
   "source": [
    "# This Python 3 environment comes with many helpful analytics libraries installed\n",
    "# It is defined by the kaggle/python Docker image: https://github.com/kaggle/docker-python\n",
    "# For example, here's several helpful packages to load\n",
    "\n",
    "import numpy as np # linear algebra\n",
    "import pandas as pd # data processing, CSV file I/O (e.g. pd.read_csv)\n",
    "\n",
    "# Input data files are available in the read-only \"../input/\" directory\n",
    "# For example, running this (by clicking run or pressing Shift+Enter) will list all files under the input directory\n",
    "\n",
    "import os\n",
    "for dirname, _, filenames in os.walk('/kaggle/input'):\n",
    "    for filename in filenames:\n",
    "        print(os.path.join(dirname, filename))\n",
    "\n",
    "# You can write up to 20GB to the current directory (/kaggle/working/) that gets preserved as output when you create a version using \"Save & Run All\" \n",
    "# You can also write temporary files to /kaggle/temp/, but they won't be saved outside of the current session"
   ]
  },
  {
   "cell_type": "markdown",
   "id": "ee15932d",
   "metadata": {
    "papermill": {
     "duration": 0.001621,
     "end_time": "2024-09-22T08:21:42.925544",
     "exception": false,
     "start_time": "2024-09-22T08:21:42.923923",
     "status": "completed"
    },
    "tags": []
   },
   "source": [
    "# Exploring Dataset\n"
   ]
  },
  {
   "cell_type": "code",
   "execution_count": 2,
   "id": "b967428e",
   "metadata": {
    "execution": {
     "iopub.execute_input": "2024-09-22T08:21:42.930291Z",
     "iopub.status.busy": "2024-09-22T08:21:42.929885Z",
     "iopub.status.idle": "2024-09-22T08:21:42.933771Z",
     "shell.execute_reply": "2024-09-22T08:21:42.932926Z"
    },
    "papermill": {
     "duration": 0.00839,
     "end_time": "2024-09-22T08:21:42.935635",
     "exception": false,
     "start_time": "2024-09-22T08:21:42.927245",
     "status": "completed"
    },
    "tags": []
   },
   "outputs": [],
   "source": [
    "import numpy as np"
   ]
  }
 ],
 "metadata": {
  "kaggle": {
   "accelerator": "gpu",
   "dataSources": [],
   "dockerImageVersionId": 30762,
   "isGpuEnabled": true,
   "isInternetEnabled": true,
   "language": "python",
   "sourceType": "notebook"
  },
  "kernelspec": {
   "display_name": "Python 3",
   "language": "python",
   "name": "python3"
  },
  "language_info": {
   "codemirror_mode": {
    "name": "ipython",
    "version": 3
   },
   "file_extension": ".py",
   "mimetype": "text/x-python",
   "name": "python",
   "nbconvert_exporter": "python",
   "pygments_lexer": "ipython3",
   "version": "3.10.14"
  },
  "papermill": {
   "default_parameters": {},
   "duration": 3.831323,
   "end_time": "2024-09-22T08:21:43.255587",
   "environment_variables": {},
   "exception": null,
   "input_path": "__notebook__.ipynb",
   "output_path": "__notebook__.ipynb",
   "parameters": {},
   "start_time": "2024-09-22T08:21:39.424264",
   "version": "2.6.0"
  }
 },
 "nbformat": 4,
 "nbformat_minor": 5
}
